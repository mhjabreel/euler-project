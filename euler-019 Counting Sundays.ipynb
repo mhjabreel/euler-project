{
 "metadata": {
  "name": ""
 },
 "nbformat": 3,
 "nbformat_minor": 0,
 "worksheets": [
  {
   "cells": [
    {
     "cell_type": "markdown",
     "source": [
      "You are given the following information, but you may prefer to do some research for yourself.\n",
      "\n",
      "1 Jan 1900 was a Monday.\n",
      "Thirty days has September,\n",
      "April, June and November.\n",
      "All the rest have thirty-one,\n",
      "Saving February alone,\n",
      "Which has twenty-eight, rain or shine.\n",
      "And on leap years, twenty-nine.\n",
      "A leap year occurs on any year evenly divisible by 4, but not on a century unless it is divisible by 400.\n",
      "\n",
      "How many Sundays fell on the first of the month during the twentieth century (1 Jan 1901 to 31 Dec 2000)?"
     ]
    },
    {
     "cell_type": "code",
     "collapsed": false,
     "input": [
      "require 'active_support/all'\n",
      "\n"
     ],
     "language": "python",
     "outputs": [
      {
       "output_type": "pyout",
       "prompt_number": 13,
       "text": [
        "false"
       ]
      }
     ],
     "prompt_number": 13
    },
    {
     "cell_type": "code",
     "collapsed": false,
     "input": [
      "date = DateTime.new(1901, 1, 1)\n",
      "\n",
      "result = 0\n",
      "while date < DateTime.new(2001, 01, 01)\n",
      "  result += 1 if date.sunday?\n",
      "  date = date + 1.months\n",
      "end\n",
      "\n",
      "result"
     ],
     "language": "python",
     "outputs": [
      {
       "output_type": "pyout",
       "prompt_number": 21,
       "text": [
        "171"
       ]
      }
     ],
     "prompt_number": 21
    }
   ]
  }
 ]
}