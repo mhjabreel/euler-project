{
 "metadata": {
  "name": ""
 },
 "nbformat": 3,
 "nbformat_minor": 0,
 "worksheets": [
  {
   "cells": [
    {
     "cell_type": "code",
     "collapsed": false,
     "input": [
      "def collatz(num)\n",
      "  sequence = [num]\n",
      "  \n",
      "  loop do\n",
      "    if (num % 2) == 0\n",
      "      num = num / 2\n",
      "    else\n",
      "      num = 3 * num + 1\n",
      "    end\n",
      "\n",
      "    sequence << num\n",
      "    break if num == 1\n",
      "  end\n",
      "\n",
      "  return sequence\n",
      "end\n",
      "\n",
      "collatz(1)"
     ],
     "language": "python",
     "outputs": [
      {
       "output_type": "pyout",
       "prompt_number": 7,
       "text": [
        "[1, 4, 2, 1]"
       ]
      }
     ],
     "prompt_number": 7
    },
    {
     "cell_type": "code",
     "collapsed": false,
     "input": [
      "def collatz_len(num)\n",
      "  len = 1\n",
      "  \n",
      "  loop do\n",
      "    if (num % 2) == 0\n",
      "      num = num / 2\n",
      "    else\n",
      "      num = 3 * num + 1\n",
      "    end\n",
      "\n",
      "    len += 1\n",
      "    break if num == 1\n",
      "  end\n",
      "\n",
      "  return len\n",
      "end\n",
      "\n",
      "collatz_len(13)"
     ],
     "language": "python",
     "outputs": [
      {
       "output_type": "pyout",
       "prompt_number": 17,
       "text": [
        "10"
       ]
      }
     ],
     "prompt_number": 17
    },
    {
     "cell_type": "code",
     "collapsed": false,
     "input": [
      "max = 0\n",
      "num = 0\n",
      "(1..1_000_000).lazy.each do |i|\n",
      "  len = collatz_len(i)\n",
      "  if len > max\n",
      "    max = len  \n",
      "    num = i\n",
      "  end\n",
      "end\n",
      "\n",
      "num"
     ],
     "language": "python",
     "outputs": [],
     "prompt_number": "*"
    },
    {
     "cell_type": "code",
     "collapsed": false,
     "input": [],
     "language": "python",
     "outputs": []
    }
   ]
  }
 ]
}