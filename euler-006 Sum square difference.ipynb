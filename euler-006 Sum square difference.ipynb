{
 "metadata": {
  "name": ""
 },
 "nbformat": 3,
 "nbformat_minor": 0,
 "worksheets": [
  {
   "cells": [
    {
     "cell_type": "markdown",
     "source": [
      "The sum of the squares of the first ten natural numbers is,\n",
      "12 + 22 + ... + 102 = 385\n",
      "\n",
      "The square of the sum of the first ten natural numbers is,\n",
      "(1 + 2 + ... + 10)2 = 552 = 3025\n",
      "\n",
      "Hence the difference between the sum of the squares of the first ten natural numbers and the square of the sum is 3025 \u2212 385 = 2640.\n",
      "\n",
      "Find the difference between the sum of the squares of the first one hundred natural numbers and the square of the sum."
     ]
    },
    {
     "cell_type": "code",
     "collapsed": false,
     "input": [
      "(((1..100).map{|i|i**2}.inject(&:+)) - ((1..100).inject(&:+)**2)).abs"
     ],
     "language": "python",
     "outputs": [
      {
       "output_type": "pyout",
       "prompt_number": 6,
       "text": [
        "25164150"
       ]
      }
     ],
     "prompt_number": 6
    }
   ]
  }
 ]
}