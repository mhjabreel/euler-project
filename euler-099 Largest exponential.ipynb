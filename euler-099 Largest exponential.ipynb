{
 "metadata": {
  "name": ""
 },
 "nbformat": 3,
 "nbformat_minor": 0,
 "worksheets": [
  {
   "cells": [
    {
     "cell_type": "code",
     "collapsed": false,
     "input": [
      "max = 0\n",
      "max_line = 0\n",
      "open(\"./base_exp.txt\").each_line.with_index do |line, index|\n",
      "  number, exp = line.split(\",\")\n",
      "  log = exp.to_i * Math.log(number.to_i)\n",
      "  if log > max\n",
      "    max = log\n",
      "    max_line = index + 1\n",
      "  end \n",
      "end\n",
      "\n",
      "max"
     ],
     "language": "python",
     "outputs": [
      {
       "output_type": "pyout",
       "prompt_number": 7,
       "text": [
        "6919995.552420337"
       ]
      }
     ],
     "prompt_number": 7
    },
    {
     "cell_type": "code",
     "collapsed": false,
     "input": [
      "max_line"
     ],
     "language": "python",
     "outputs": [
      {
       "output_type": "pyout",
       "prompt_number": 8,
       "text": [
        "709"
       ]
      }
     ],
     "prompt_number": 8
    },
    {
     "cell_type": "code",
     "collapsed": false,
     "input": [],
     "language": "python",
     "outputs": []
    }
   ]
  }
 ]
}