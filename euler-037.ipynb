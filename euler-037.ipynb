{
 "metadata": {
  "name": ""
 },
 "nbformat": 3,
 "nbformat_minor": 0,
 "worksheets": [
  {
   "cells": [
    {
     "cell_type": "markdown",
     "source": [
      "\uc18c\uc218 3797\uc5d0\ub294 \uc67c\ucabd\ubd80\ud130 \uc790\ub9ac\uc218\ub97c \ud558\ub098\uc529 \uc5c6\uc560\uac70\ub098 \uc624\ub978\ucabd\ubd80\ud130 \uc5c6\uc560\ub3c4 \ubaa8\ub450 \uc18c\uc218\uac00 \ub418\ub294 \uc131\uc9c8\uc774 \uc788\uc2b5\ub2c8\ub2e4 \uc774\ub7f0 \uc131\uc9c8\uc744 \uac00\uc9c4 \uc18c\uc218\ub294 \ub2e8 11\uac1c\ub9cc\uc774 \uc874\uc7ac\ud569\ub2c8\ub2e4. \uc774\uac83\uc744 \ubaa8\ub450 \ucc3e\uc544\uc11c \ud569\uc744 \uad6c\ud558\uc138\uc694. \ub2e8, 2, 3, 5, 7 \uc81c\uc678."
     ]
    },
    {
     "cell_type": "code",
     "collapsed": false,
     "input": [
      "def find_candidates(n)\n",
      "  candidates = []\n",
      "  n_s = n.to_s\n",
      "\n",
      "  (1..(n_s.length - 1)).each do |i|\n",
      "    candidates << n_s[i..n_s.length].to_i\n",
      "  end\n",
      "\n",
      "  (1..(n_s.length - 1)).each do |i|\n",
      "    candidates << n_s[0..n_s.length-(i+1)].to_i\n",
      "  end\n",
      "\n",
      "  return candidates\n",
      "end\n",
      "\n",
      "find_candidates(3797)"
     ],
     "language": "python",
     "outputs": [
      {
       "output_type": "pyout",
       "prompt_number": 26,
       "text": [
        "[797, 97, 7, 379, 37, 3]"
       ]
      }
     ],
     "prompt_number": 26
    },
    {
     "cell_type": "code",
     "collapsed": false,
     "input": [
      "def is_prime?(num)\n",
      "  return false if num == 1\n",
      "  return true if num == 2\n",
      "  return false if num % 2 == 0\n",
      "  return (2..Math.sqrt(num).ceil).all?{|i| num % i != 0}\n",
      "end\n",
      "\n",
      "is_prime?(3797)"
     ],
     "language": "python",
     "outputs": [
      {
       "output_type": "pyout",
       "prompt_number": 29,
       "text": [
        "true"
       ]
      }
     ],
     "prompt_number": 29
    },
    {
     "cell_type": "code",
     "collapsed": false,
     "input": [
      "def is_special?(n)\n",
      "  find_candidates(n).all? {|n| is_prime?(n.to_i)}\n",
      "end\n",
      "\n",
      "is_special?(3797)"
     ],
     "language": "python",
     "outputs": [
      {
       "output_type": "pyout",
       "prompt_number": 31,
       "text": [
        "true"
       ]
      }
     ],
     "prompt_number": 31
    },
    {
     "cell_type": "code",
     "collapsed": false,
     "input": [
      "results = []\n",
      "\n",
      "(9..Float::INFINITY).lazy.each do |n|\n",
      "  if is_prime?(n)\n",
      "    results << n if is_special?(n)\n",
      "  end\n",
      "  break if results.length == 11\n",
      "end\n",
      "\n",
      "results"
     ],
     "language": "python",
     "outputs": [
      {
       "output_type": "pyout",
       "prompt_number": 32,
       "text": [
        "[23, 37, 53, 73, 313, 317, 373, 797, 3137, 3797, 739397]"
       ]
      }
     ],
     "prompt_number": 32
    },
    {
     "cell_type": "code",
     "collapsed": false,
     "input": [
      "results.inject &:+"
     ],
     "language": "python",
     "outputs": [
      {
       "output_type": "pyout",
       "prompt_number": 33,
       "text": [
        "748317"
       ]
      }
     ],
     "prompt_number": 33
    }
   ]
  }
 ]
}