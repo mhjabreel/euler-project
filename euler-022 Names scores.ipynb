{
 "metadata": {
  "name": ""
 },
 "nbformat": 3,
 "nbformat_minor": 0,
 "worksheets": [
  {
   "cells": [
    {
     "cell_type": "markdown",
     "source": [
      "# Using names.txt (right click and 'Save Link/Target As...'), a 46K text file containing over five-thousand first names, begin by sorting it into alphabetical order. Then working out the alphabetical value for each name, multiply this value by its alphabetical position in the list to obtain a name score.\n",
      "\n",
      "# For example, when the list is sorted into alphabetical order, COLIN, which is worth 3 + 15 + 12 + 9 + 14 = 53, is the 938th name in the list. So, COLIN would obtain a score of 938 \u00d7 53 = 49714.\n",
      "\n",
      "# What is the total of all the name scores in the file?"
     ]
    },
    {
     "cell_type": "code",
     "collapsed": false,
     "input": [
      "result = 0\n",
      "\n",
      "open(\"./names.txt\").read.to_s.tr('\"',\"\").split(\",\").sort.each_with_index { |item, i| result += item.split(\"\").inject(0) { |sum, c| sum += c.ord - 64 } * (i+1) }\n",
      "\n",
      "result"
     ],
     "language": "python",
     "outputs": [
      {
       "output_type": "pyout",
       "prompt_number": 47,
       "text": [
        "871198282"
       ]
      }
     ],
     "prompt_number": 47
    }
   ]
  }
 ]
}