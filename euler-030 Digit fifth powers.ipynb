{
 "metadata": {
  "name": ""
 },
 "nbformat": 3,
 "nbformat_minor": 0,
 "worksheets": [
  {
   "cells": [
    {
     "cell_type": "markdown",
     "source": [
      "Surprisingly there are only three numbers that can be written as the sum of fourth powers of their digits:\n",
      "\n",
      "1634 = 14 + 64 + 34 + 44\n",
      "8208 = 84 + 24 + 04 + 84\n",
      "9474 = 94 + 44 + 74 + 44\n",
      "\n",
      "As 1 = 14 is not a sum it is not included.\n",
      "\n",
      "The sum of these numbers is 1634 + 8208 + 9474 = 19316.\n",
      "\n",
      "Find the sum of all the numbers that can be written as the sum of fifth powers of their digits."
     ]
    },
    {
     "cell_type": "code",
     "collapsed": false,
     "input": [
      "def find_number(n)\n",
      "  n.to_s.split(\"\").map{|n|n.to_i ** 5}.inject(:+)\n",
      "end"
     ],
     "language": "python",
     "outputs": [],
     "prompt_number": 1
    },
    {
     "cell_type": "code",
     "collapsed": false,
     "input": [
      "results = []\n",
      "\n",
      "(2..999999).each do |n|\n",
      "  results << n if find_number(n) == n\n",
      "end\n",
      "\n",
      "results"
     ],
     "language": "python",
     "outputs": [
      {
       "output_type": "pyout",
       "prompt_number": 12,
       "text": [
        "[4150, 4151, 54748, 92727, 93084, 194979]"
       ]
      }
     ],
     "prompt_number": 12
    },
    {
     "cell_type": "code",
     "collapsed": false,
     "input": [
      "results.inject &:+"
     ],
     "language": "python",
     "outputs": [
      {
       "output_type": "pyout",
       "prompt_number": 14,
       "text": [
        "443839"
       ]
      }
     ],
     "prompt_number": 14
    },
    {
     "cell_type": "code",
     "collapsed": false,
     "input": [],
     "language": "python",
     "outputs": []
    }
   ]
  }
 ]
}