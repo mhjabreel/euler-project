{
 "metadata": {
  "name": ""
 },
 "nbformat": 3,
 "nbformat_minor": 0,
 "worksheets": [
  {
   "cells": [
    {
     "cell_type": "markdown",
     "source": [
      "A Pythagorean triplet is a set of three natural numbers, a < b < c, for which,\n",
      "a**2 + b**2 = c**2\n",
      "\n",
      "For example, 3**2 + 4**2 = 9 + 16 = 25 = 5**2.\n",
      "\n",
      "There exists exactly one Pythagorean triplet for which a + b + c = 1000.\n",
      "Find the product abc."
     ]
    },
    {
     "cell_type": "code",
     "collapsed": false,
     "input": [
      "def find\n",
      "  (1..997).each do |i|\n",
      "    (i+1..998).each do |j|\n",
      "      k = 1000 - i - j\n",
      "      return i * j * k if ((i**2 + j**2) == k**2)\n",
      "    end\n",
      "  end\n",
      "end\n",
      "\n",
      "find"
     ],
     "language": "python",
     "outputs": [
      {
       "output_type": "pyout",
       "prompt_number": 8,
       "text": [
        "31875000"
       ]
      }
     ],
     "prompt_number": 8
    },
    {
     "cell_type": "code",
     "collapsed": false,
     "input": [],
     "language": "python",
     "outputs": []
    }
   ]
  }
 ]
}