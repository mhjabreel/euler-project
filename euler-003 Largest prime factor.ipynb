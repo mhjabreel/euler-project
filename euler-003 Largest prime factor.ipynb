{
 "metadata": {
  "name": ""
 },
 "nbformat": 3,
 "nbformat_minor": 0,
 "worksheets": [
  {
   "cells": [
    {
     "cell_type": "markdown",
     "source": [
      "\uc5b4\ub5a4 \uc218\ub97c \uc18c\uc218\uc758 \uacf1\uc73c\ub85c\ub9cc \ub098\ud0c0\ub0b4\ub294 \uac83\uc744 \uc18c\uc778\uc218\ubd84\ud574\ub77c \ud558\uace0, \uc774 \uc18c\uc218\ub4e4\uc744 \uadf8 \uc218\uc758 \uc18c\uc778\uc218\ub77c\uace0 \ud569\ub2c8\ub2e4. \uc608\ub97c \ub4e4\uba74 13195\uc758 \uc18c\uc778\uc218\ub294 5, 7, 13, 29 \uc785\ub2c8\ub2e4.\n",
      "\n",
      "600851475143\uc758 \uc18c\uc778\uc218 \uc911\uc5d0\uc11c \uac00\uc7a5 \ud070 \uc218\ub97c \uad6c\ud558\uc138\uc694."
     ]
    },
    {
     "cell_type": "code",
     "collapsed": false,
     "input": [
      "target = 13195\n",
      "result = 0\n",
      "k = 0\n",
      "2.upto(target).to_a.each do |i|\n",
      "  k += 1\n",
      "  break if k > 100\n",
      "  reminder = target % i\n",
      "  \n",
      "  if reminder != 0\n",
      "    next\n",
      "  else\n",
      "    target = target / i\n",
      "    puts target.to_s + \"/\" + i.to_s\n",
      "    if target == 1\n",
      "      result = i\n",
      "      break\n",
      "    end\n",
      "    redo\n",
      "  end\n",
      "end\n",
      "\n",
      "result"
     ],
     "language": "python",
     "outputs": [
      {
       "output_type": "stream",
       "stream": "stdout",
       "text": [
        "2639/5\n"
       ]
      },
      {
       "output_type": "stream",
       "stream": "stdout",
       "text": [
        "377/7\n"
       ]
      },
      {
       "output_type": "stream",
       "stream": "stdout",
       "text": [
        "29/13\n"
       ]
      },
      {
       "output_type": "stream",
       "stream": "stdout",
       "text": [
        "1/29\n"
       ]
      },
      {
       "output_type": "pyout",
       "prompt_number": 4,
       "text": [
        "29"
       ]
      }
     ],
     "prompt_number": 4
    },
    {
     "cell_type": "code",
     "collapsed": false,
     "input": [
      "target = 600851475143 \n",
      "result = 0\n",
      "k = 0\n",
      "(2..target).lazy.each do |i|\n",
      "  reminder = target % i\n",
      "  \n",
      "  if reminder != 0\n",
      "    next\n",
      "  else\n",
      "    target = target / i\n",
      "    puts target.to_s + \"/\" + i.to_s\n",
      "    if target == 1\n",
      "      result = i\n",
      "      break\n",
      "    end\n",
      "    redo\n",
      "  end\n",
      "end"
     ],
     "language": "python",
     "outputs": [
      {
       "output_type": "stream",
       "stream": "stdout",
       "text": [
        "8462696833/71\n"
       ]
      },
      {
       "output_type": "stream",
       "stream": "stdout",
       "text": [
        "10086647/839\n"
       ]
      },
      {
       "output_type": "stream",
       "stream": "stdout",
       "text": [
        "6857/1471\n"
       ]
      },
      {
       "output_type": "stream",
       "stream": "stdout",
       "text": [
        "1/6857\n"
       ]
      }
     ],
     "prompt_number": 6
    },
    {
     "cell_type": "code",
     "collapsed": false,
     "input": [],
     "language": "python",
     "outputs": []
    }
   ]
  }
 ]
}