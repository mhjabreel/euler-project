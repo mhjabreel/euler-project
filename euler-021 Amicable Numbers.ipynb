{
 "metadata": {
  "name": ""
 },
 "nbformat": 3,
 "nbformat_minor": 0,
 "worksheets": [
  {
   "cells": [
    {
     "cell_type": "markdown",
     "source": [
      "Let d(n) be defined as the sum of proper divisors of n (numbers less than n which divide evenly into n).\n",
      "If d(a) = b and d(b) = a, where a \u2260 b, then a and b are an amicable pair and each of a and b are called amicable numbers.\n",
      "\n",
      "For example, the proper divisors of 220 are 1, 2, 4, 5, 10, 11, 20, 22, 44, 55 and 110; therefore d(220) = 284. The proper divisors of 284 are 1, 2, 4, 71 and 142; so d(284) = 220.\n",
      "\n",
      "Evaluate the sum of all the amicable numbers under 10000"
     ]
    },
    {
     "cell_type": "code",
     "collapsed": false,
     "input": [
      "# From euler-014\n",
      "\n",
      "def find_factor(target)\n",
      "  result = []\n",
      "  (2..target).lazy.each do |i|\n",
      "    reminder = target % i\n",
      "    \n",
      "    if reminder != 0\n",
      "      next\n",
      "    else\n",
      "      target = target / i\n",
      "      result << i\n",
      "      if target == 1\n",
      "        break\n",
      "      end\n",
      "      redo\n",
      "    end\n",
      "  end\n",
      "\n",
      "  return result\n",
      "end\n",
      "\n",
      "def find_divisor(num)\n",
      "  result = [1, num]\n",
      "  factors = find_factor(num)\n",
      "  (1..(factors.length - 1)).each do |i|\n",
      "    result << factors.combination(i).to_a.map{|set|set.inject(&:*)}\n",
      "  end\n",
      "\n",
      "  return result.flatten.uniq.sort\n",
      "end"
     ],
     "language": "python",
     "outputs": [],
     "prompt_number": 9
    },
    {
     "cell_type": "code",
     "collapsed": false,
     "input": [
      "puts find_divisor(220)[0..-2].inject &:+\n",
      "puts find_divisor(284)[0..-2].inject &:+"
     ],
     "language": "python",
     "outputs": [
      {
       "output_type": "stream",
       "stream": "stdout",
       "text": [
        "284\n"
       ]
      },
      {
       "output_type": "stream",
       "stream": "stdout",
       "text": [
        "220\n"
       ]
      }
     ],
     "prompt_number": 8
    },
    {
     "cell_type": "code",
     "collapsed": false,
     "input": [
      "def find_amicable_numbers(n)\n",
      "  temp = find_divisor(n)[0..-2].inject &:+\n",
      "  verify = find_divisor(temp)[0..-2].inject &:+\n",
      "  return [n,temp] if verify == n and temp != n\n",
      "  return 0\n",
      "end"
     ],
     "language": "python",
     "outputs": [],
     "prompt_number": 39
    },
    {
     "cell_type": "code",
     "collapsed": false,
     "input": [
      "results = []\n",
      "\n",
      "(2..10000).each do |n|\n",
      "  temp = find_amicable_numbers(n)\n",
      "  results << temp if temp != 0 \n",
      "end\n",
      "\n",
      "results"
     ],
     "language": "python",
     "outputs": [
      {
       "output_type": "pyout",
       "prompt_number": 40,
       "text": [
        "[[220, 284], [284, 220], [1184, 1210], [1210, 1184], [2620, 2924], [2924, 2620], [5020, 5564], [5564, 5020], [6232, 6368], [6368, 6232]]"
       ]
      }
     ],
     "prompt_number": 40
    },
    {
     "cell_type": "code",
     "collapsed": false,
     "input": [
      "results.flatten.uniq.inject &:+"
     ],
     "language": "python",
     "outputs": [
      {
       "output_type": "pyout",
       "prompt_number": 41,
       "text": [
        "31626"
       ]
      }
     ],
     "prompt_number": 41
    },
    {
     "cell_type": "code",
     "collapsed": false,
     "input": [],
     "language": "python",
     "outputs": []
    }
   ]
  }
 ]
}