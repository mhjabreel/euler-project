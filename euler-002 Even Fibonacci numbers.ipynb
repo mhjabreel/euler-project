{
 "metadata": {
  "name": ""
 },
 "nbformat": 3,
 "nbformat_minor": 0,
 "worksheets": [
  {
   "cells": [
    {
     "cell_type": "markdown",
     "source": [
      "\ud53c\ubcf4\ub098\uce58 \uc218\uc5f4\uc758 \uac01 \ud56d\uc740 \ubc14\ub85c \uc55e\uc758 \ud56d \ub450 \uac1c\ub97c \ub354\ud55c \uac83\uc774 \ub429\ub2c8\ub2e4. 1\uacfc 2\ub85c \uc2dc\uc791\ud558\ub294 \uacbd\uc6b0 \uc774 \uc218\uc5f4\uc740 \uc544\ub798\uc640 \uac19\uc2b5\ub2c8\ub2e4.\n",
      "\n",
      "    1, 2, 3, 5, 8, 13, 21, 34, 55, 89, ... \n",
      "\n",
      "\uc9dd\uc218\uc774\uba74\uc11c 4\ubc31\ub9cc \uc774\ud558\uc778 \ubaa8\ub4e0 \ud56d\uc744 \ub354\ud558\uba74 \uc5bc\ub9c8\uac00 \ub429\ub2c8\uae4c?"
     ]
    },
    {
     "cell_type": "code",
     "collapsed": false,
     "input": [
      "x1 = 1\n",
      "x2 = 2\n",
      "target = 0\n",
      "fibonacci = [2]\n",
      "\n",
      "while target < 4_000_000 do\n",
      "  target = x1 + x2\n",
      "  x1 = x2\n",
      "  x2 = target\n",
      "  fibonacci.push target if (target % 2) == 0\n",
      "end"
     ],
     "language": "python",
     "outputs": [],
     "prompt_number": 16
    },
    {
     "cell_type": "code",
     "collapsed": false,
     "input": [
      "fibonacci"
     ],
     "language": "python",
     "outputs": [
      {
       "output_type": "pyout",
       "prompt_number": 17,
       "text": [
        "[2, 8, 34, 144, 610, 2584, 10946, 46368, 196418, 832040, 3524578]"
       ]
      }
     ],
     "prompt_number": 17
    },
    {
     "cell_type": "code",
     "collapsed": false,
     "input": [
      "fibonacci.inject(0) { |sum, item| sum += item}"
     ],
     "language": "python",
     "outputs": [
      {
       "output_type": "pyout",
       "prompt_number": 18,
       "text": [
        "4613732"
       ]
      }
     ],
     "prompt_number": 18
    },
    {
     "cell_type": "code",
     "collapsed": false,
     "input": [],
     "language": "python",
     "outputs": []
    }
   ]
  }
 ]
}