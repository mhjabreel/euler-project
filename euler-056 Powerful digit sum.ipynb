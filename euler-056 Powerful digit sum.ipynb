{
 "metadata": {
  "name": ""
 },
 "nbformat": 3,
 "nbformat_minor": 0,
 "worksheets": [
  {
   "cells": [
    {
     "cell_type": "code",
     "collapsed": false,
     "input": [
      "def sum_digit(number)\n",
      "  number.to_s.split(\"\").map{|n|n.to_i}.inject(:+)\n",
      "end"
     ],
     "language": "python",
     "outputs": [],
     "prompt_number": 9
    },
    {
     "cell_type": "code",
     "collapsed": false,
     "input": [
      "max = 0\n",
      "\n",
      "(1..99).each do |x|\n",
      "  (1..99).each do |y|\n",
      "    temp = sum_digit(x**y)\n",
      "    max = temp if temp > max\n",
      "  end\n",
      "end\n",
      "\n",
      "max"
     ],
     "language": "python",
     "outputs": [
      {
       "output_type": "pyout",
       "prompt_number": 10,
       "text": [
        "972"
       ]
      }
     ],
     "prompt_number": 10
    },
    {
     "cell_type": "code",
     "collapsed": false,
     "input": [],
     "language": "python",
     "outputs": []
    }
   ]
  }
 ]
}