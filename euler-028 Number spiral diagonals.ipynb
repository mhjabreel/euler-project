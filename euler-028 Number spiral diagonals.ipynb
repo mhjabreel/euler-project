{
 "metadata": {
  "name": ""
 },
 "nbformat": 3,
 "nbformat_minor": 0,
 "worksheets": [
  {
   "cells": [
    {
     "cell_type": "markdown",
     "source": [
      "Starting with the number 1 and moving to the right in a clockwise direction a 5 by 5 spiral is formed as follows:\n",
      "\n",
      "21 22 23 24 25\n",
      "20  7  8  9 10\n",
      "19  6  1  2 11\n",
      "18  5  4  3 12\n",
      "17 16 15 14 13\n",
      "\n",
      "It can be verified that the sum of the numbers on the diagonals is 101.\n",
      "\n",
      "What is the sum of the numbers on the diagonals in a 1001 by 1001 spiral formed in the same way?"
     ]
    },
    {
     "cell_type": "code",
     "collapsed": false,
     "input": [
      "1001*1001"
     ],
     "language": "python",
     "outputs": [
      {
       "output_type": "pyout",
       "prompt_number": 1,
       "text": [
        "1002001"
       ]
      }
     ],
     "prompt_number": 1
    },
    {
     "cell_type": "code",
     "collapsed": false,
     "input": [
      "puts 1002001 - 1000"
     ],
     "language": "python",
     "outputs": [
      {
       "output_type": "stream",
       "stream": "stdout",
       "text": [
        "1001001\n"
       ]
      }
     ],
     "prompt_number": 2
    },
    {
     "cell_type": "code",
     "collapsed": false,
     "input": [
      "target = 1002001\n",
      "result = 0\n",
      "\n",
      "(1..500).to_a.reverse.each do |n|\n",
      "  i = n * 2\n",
      "  result += target\n",
      "  target -= i\n",
      "  result += target\n",
      "  target -= i\n",
      "  result += target\n",
      "  target -= i\n",
      "  result += target\n",
      "  target -= i\n",
      "end\n",
      "\n",
      "result + 1"
     ],
     "language": "python",
     "outputs": [
      {
       "output_type": "pyout",
       "prompt_number": 14,
       "text": [
        "669171001"
       ]
      }
     ],
     "prompt_number": 14
    }
   ]
  }
 ]
}