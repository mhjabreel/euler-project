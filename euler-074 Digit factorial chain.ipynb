{
 "metadata": {
  "name": ""
 },
 "nbformat": 3,
 "nbformat_minor": 0,
 "worksheets": [
  {
   "cells": [
    {
     "cell_type": "markdown",
     "source": [
      "The number 145 is well known for the property that the sum of the factorial of its digits is equal to 145:\n",
      "\n",
      "1! + 4! + 5! = 1 + 24 + 120 = 145\n",
      "\n",
      "Perhaps less well known is 169, in that it produces the longest chain of numbers that link back to 169; it turns out that there are only three such loops that exist:\n",
      "\n",
      "169 \u2192 363601 \u2192 1454 \u2192 169\n",
      "871 \u2192 45361 \u2192 871\n",
      "872 \u2192 45362 \u2192 872\n",
      "\n",
      "It is not difficult to prove that EVERY starting number will eventually get stuck in a loop. For example,\n",
      "\n",
      "69 \u2192 363600 \u2192 1454 \u2192 169 \u2192 363601 (\u2192 1454)\n",
      "78 \u2192 45360 \u2192 871 \u2192 45361 (\u2192 871)\n",
      "540 \u2192 145 (\u2192 145)\n",
      "\n",
      "Starting with 69 produces a chain of five non-repeating terms, but the longest non-repeating chain with a starting number below one million is sixty terms.\n",
      "\n",
      "How many chains, with a starting number below one million, contain exactly sixty non-repeating terms?"
     ]
    },
    {
     "cell_type": "code",
     "collapsed": false,
     "input": [
      "$fac = (0..9).to_a.map {|i| i.downto(1).inject &:* }\n",
      "$fac[0] = 1\n",
      "$fac"
     ],
     "language": "python",
     "outputs": [
      {
       "output_type": "pyout",
       "prompt_number": 1,
       "text": [
        "[1, 1, 2, 6, 24, 120, 720, 5040, 40320, 362880]"
       ]
      }
     ],
     "prompt_number": 1
    },
    {
     "cell_type": "code",
     "collapsed": false,
     "input": [
      "def factorial_decompose(num)\n",
      "  num.to_s.split(\"\").map{|i| $fac[i.to_i]}.inject &:+\n",
      "end"
     ],
     "language": "python",
     "outputs": [],
     "prompt_number": 2
    },
    {
     "cell_type": "code",
     "collapsed": false,
     "input": [
      "def find_factorial_chain(num)\n",
      "  result = []\n",
      "  result << num\n",
      "  decompose = factorial_decompose(num)\n",
      "\n",
      "  while decompose != num\n",
      "    result << decompose\n",
      "    decompose = factorial_decompose(decompose)\n",
      "\n",
      "    return result.count + 1 - 1 if result[1..-1].include? decompose\n",
      "  end\n",
      "\n",
      "  \n",
      "  return result.count - 1\n",
      "end"
     ],
     "language": "python",
     "outputs": [],
     "prompt_number": 20
    },
    {
     "cell_type": "code",
     "collapsed": false,
     "input": [
      "factorial_decompose(145)"
     ],
     "language": "python",
     "outputs": [
      {
       "output_type": "pyout",
       "prompt_number": 21,
       "text": [
        "145"
       ]
      }
     ],
     "prompt_number": 21
    },
    {
     "cell_type": "code",
     "collapsed": false,
     "input": [
      "find_factorial_chain 871"
     ],
     "language": "python",
     "outputs": [
      {
       "output_type": "pyout",
       "prompt_number": 22,
       "text": [
        "1"
       ]
      }
     ],
     "prompt_number": 22
    },
    {
     "cell_type": "code",
     "collapsed": false,
     "input": [
      "(1..1_000_000).count{|i| find_factorial_chain(i) == 60 }"
     ],
     "language": "python",
     "outputs": [
      {
       "output_type": "pyout",
       "prompt_number": 30,
       "text": [
        "402"
       ]
      }
     ],
     "prompt_number": 30
    }
   ]
  }
 ]
}