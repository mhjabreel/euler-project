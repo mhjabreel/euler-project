{
 "metadata": {
  "name": ""
 },
 "nbformat": 3,
 "nbformat_minor": 0,
 "worksheets": [
  {
   "cells": [
    {
     "cell_type": "markdown",
     "source": [
      "The number 512 is interesting because it is equal to the sum of its digits raised to some power: 5 + 1 + 2 = 8, and 8**3 = 512. Another example of a number with this property is 614656 = 28**4.\n",
      "\n",
      "We shall define a_n_ to be the nth term of this sequence and insist that a number must contain at least two digits to have a sum.\n",
      "\n",
      "You are given that a_2_ = 512 and a_10_ = 614656.\n",
      "\n",
      "Find a_30_."
     ]
    },
    {
     "cell_type": "code",
     "collapsed": false,
     "input": [
      "512.to_s.split(\"\").map{|i|i.to_i}.inject(:+)**(512.to_s.length)"
     ],
     "language": "python",
     "outputs": [
      {
       "output_type": "pyout",
       "prompt_number": 1,
       "text": [
        "512"
       ]
      }
     ],
     "prompt_number": 1
    },
    {
     "cell_type": "code",
     "collapsed": false,
     "input": [
      "def check_dps(num)\n",
      "  base = num.to_s.split(\"\").map{|k|k.to_i}.inject(:+)\n",
      "  (2..99).each do |i|\n",
      "    target = base ** i\n",
      "    return true if num == target\n",
      "    return false if num < target\n",
      "  end\n",
      "  \n",
      "  return false\n",
      "end\n",
      "\n",
      "check_dps(512)"
     ],
     "language": "python",
     "outputs": [
      {
       "output_type": "pyout",
       "prompt_number": 58,
       "text": [
        "true"
       ]
      }
     ],
     "prompt_number": 58
    },
    {
     "cell_type": "code",
     "collapsed": false,
     "input": [
      "check_dps 614656"
     ],
     "language": "python",
     "outputs": [
      {
       "output_type": "pyout",
       "prompt_number": 59,
       "text": [
        "true"
       ]
      }
     ],
     "prompt_number": 59
    },
    {
     "cell_type": "code",
     "collapsed": false,
     "input": [
      "result = []\n",
      "\n",
      "(11..614656).lazy.each do |num| \n",
      "  result << num if check_dps(num)\n",
      "end\n",
      "\n",
      "puts result"
     ],
     "language": "python",
     "outputs": [
      {
       "output_type": "stream",
       "stream": "stdout",
       "text": [
        "[0, 1, 81, 512, 2401, 4913, 5832, 17576, 19683, 234256, 390625, 614656, 1679616]\n"
       ]
      }
     ],
     "prompt_number": 60
    },
    {
     "cell_type": "code",
     "collapsed": false,
     "input": [
      "def find_target\n",
      "  result = []\n",
      "  (2..99).each{|k| result = result + (2..10).map{|i|k**i}}\n",
      "  result\n",
      "end\n",
      "\n",
      "find_target.length"
     ],
     "language": "python",
     "outputs": [
      {
       "output_type": "pyout",
       "prompt_number": 62,
       "text": [
        "882"
       ]
      }
     ],
     "prompt_number": 62
    },
    {
     "cell_type": "code",
     "collapsed": false,
     "input": [
      "result = []\n",
      "\n",
      "find_target.uniq.sort.each do |num| \n",
      "  result << num if check_dps(num)\n",
      "end\n",
      "\n",
      "puts result.sort"
     ],
     "language": "python",
     "outputs": [
      {
       "output_type": "stream",
       "stream": "stdout",
       "text": [
        "[81, 512, 2401, 4913, 5832, 17576, 19683, 234256, 390625, 614656, 1679616, 17210368, 34012224, 52521875, 60466176, 205962976, 612220032, 8303765625, 10460353203, 24794911296, 27512614111, 52523350144, 68719476736, 271818611107, 1174711139837, 2207984167552, 6722988818432, 20047612231936, 72301961339136, 248155780267521, 3904305912313344, 45848500718449031, 150094635296999121, 13744803133596058624, 19687440434072265625, 53861511409489970176, 73742412689492826049]\n"
       ]
      }
     ],
     "prompt_number": 69
    },
    {
     "cell_type": "code",
     "collapsed": false,
     "input": [
      "result[29]"
     ],
     "language": "python",
     "outputs": [
      {
       "output_type": "pyout",
       "prompt_number": 68,
       "text": [
        "248155780267521"
       ]
      }
     ],
     "prompt_number": 68
    },
    {
     "cell_type": "code",
     "collapsed": false,
     "input": [],
     "language": "python",
     "outputs": []
    }
   ]
  }
 ]
}