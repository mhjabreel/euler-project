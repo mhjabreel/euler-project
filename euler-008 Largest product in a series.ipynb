{
 "metadata": {
  "name": ""
 },
 "nbformat": 3,
 "nbformat_minor": 0,
 "worksheets": [
  {
   "cells": [
    {
     "cell_type": "markdown",
     "source": [
      "Find the greatest product of five consecutive digits in the 1000-digit number."
     ]
    },
    {
     "cell_type": "code",
     "collapsed": false,
     "input": [
      "data = \"7316717653133062491922511967442657474235534919493496983520312774506326239578318016984801869478851843858615607891129494954595017379583319528532088055111254069874715852386305071569329096329522744304355766896648950445244523161731856403098711121722383113622298934233803081353362766142828064444866452387493035890729629049156044077239071381051585930796086670172427121883999097908792274921901699720888093776657273330010533678812202354218097512545405947522435258490771167055601360483958644670632441572215539753697817977846174064955149290862569321978468622482839722413756570560574902614079729686524145351004748216637048440319989000889524345065854122758866688116427171479924442928230863465674813919123162824586178664583591245665294765456828489128831426076900422421902267105562632111110937054421750694165896040807198403850962455444362981230987879927244284909188845801561660979191338754992005240636899125607176060588611646710940507754100225698315520005593572972571636269561882670428252483600823257530420752963450\""
     ],
     "language": "python",
     "outputs": [
      {
       "output_type": "pyout",
       "prompt_number": 1,
       "text": [
        "\"7316717653133062491922511967442657474235534919493496983520312774506326239578318016984801869478851843858615607891129494954595017379583319528532088055111254069874715852386305071569329096329522744304355766896648950445244523161731856403098711121722383113622298934233803081353362766142828064444866452387493035890729629049156044077239071381051585930796086670172427121883998797908792274921901699720888093776657273330010533678812202354218097512545405947522435258490771167055601360483958644670632441572215539753697817977846174064955149290862569321978468622482839722413756570560574902614079729686524145351004748216637048440319989000889524345065854122758866688116427171479924442928230863465674813919123162824586178664583591245665294765456828489128831426076900422421902267105562632111110937054421750694165896040807198403850962455444362981230987879927244284909188845801561660979191338754992005240636899125607176060588611646710940507754100225698315520005593572972571636269561882670428252483600823257530420752963450\""
       ]
      }
     ],
     "prompt_number": 1
    },
    {
     "cell_type": "code",
     "collapsed": false,
     "input": [
      "require 'fiber'"
     ],
     "language": "python",
     "outputs": [
      {
       "output_type": "pyout",
       "prompt_number": 2,
       "text": [
        "true"
       ]
      }
     ],
     "prompt_number": 2
    },
    {
     "cell_type": "code",
     "collapsed": false,
     "input": [
      "data.length"
     ],
     "language": "python",
     "outputs": [
      {
       "output_type": "pyout",
       "prompt_number": 3,
       "text": [
        "1000"
       ]
      }
     ],
     "prompt_number": 3
    },
    {
     "cell_type": "code",
     "collapsed": false,
     "input": [
      "f = Fiber.new do\n",
      "  start_index = 0\n",
      "  end_index = 4\n",
      "  \n",
      "  (0..1000-5).each do |i|\n",
      "    Fiber.yield data[start_index..end_index].split(\"\").map{|i|i.to_i}.inject(&:*)\n",
      "    start_index += 1\n",
      "    end_index += 1    \n",
      "  end\n",
      "end "
     ],
     "language": "python",
     "outputs": [
      {
       "output_type": "pyout",
       "prompt_number": 30,
       "text": [
        "#<Fiber:0x007f0bf4e1bdb8>"
       ]
      }
     ],
     "prompt_number": 30
    },
    {
     "cell_type": "code",
     "collapsed": false,
     "input": [
      "max = 0\n",
      "\n",
      "begin\n",
      "  target = f.resume\n",
      "  max = target.to_i if target.to_i > max\n",
      "end while f.alive?"
     ],
     "language": "python",
     "outputs": [
      {
       "ename": "NoMethodError",
       "evalue": "undefined method `to_i' for 0..995:Range",
       "output_type": "pyerr",
       "traceback": [
        "\u001b[31mNoMethodError\u001b[0m: undefined method `to_i' for 0..995:Range",
        "\u001b[37m(pry):211:in `<main>'\u001b[0m",
        "\u001b[37m/home/hsin/.rbenv/versions/2.0.0-p247/lib/ruby/gems/2.0.0/gems/pry-1.0.0.pre1/lib/pry/pry_instance.rb:369:in `eval'\u001b[0m",
        "\u001b[37m/home/hsin/.rbenv/versions/2.0.0-p247/lib/ruby/gems/2.0.0/gems/pry-1.0.0.pre1/lib/pry/pry_instance.rb:369:in `evaluate_ruby'\u001b[0m",
        "\u001b[37m/home/hsin/.rbenv/versions/2.0.0-p247/lib/ruby/gems/2.0.0/gems/pry-1.0.0.pre1/lib/pry/pry_instance.rb:334:in `handle_line'\u001b[0m",
        "\u001b[37m/home/hsin/.rbenv/versions/2.0.0-p247/lib/ruby/gems/2.0.0/gems/pry-1.0.0.pre1/lib/pry/pry_instance.rb:270:in `block (2 levels) in eval'\u001b[0m",
        "\u001b[37m/home/hsin/.rbenv/versions/2.0.0-p247/lib/ruby/gems/2.0.0/gems/pry-1.0.0.pre1/lib/pry/pry_instance.rb:269:in `catch'\u001b[0m",
        "\u001b[37m/home/hsin/.rbenv/versions/2.0.0-p247/lib/ruby/gems/2.0.0/gems/pry-1.0.0.pre1/lib/pry/pry_instance.rb:269:in `block in eval'\u001b[0m",
        "\u001b[37m/home/hsin/.rbenv/versions/2.0.0-p247/lib/ruby/gems/2.0.0/gems/pry-1.0.0.pre1/lib/pry/pry_instance.rb:268:in `catch'\u001b[0m",
        "\u001b[37m/home/hsin/.rbenv/versions/2.0.0-p247/lib/ruby/gems/2.0.0/gems/pry-1.0.0.pre1/lib/pry/pry_instance.rb:268:in `eval'\u001b[0m",
        "\u001b[37m/home/hsin/.rbenv/versions/2.0.0-p247/lib/ruby/gems/2.0.0/gems/iruby-0.1.7/lib/iruby/backend.rb:35:in `eval'\u001b[0m",
        "\u001b[37m/home/hsin/.rbenv/versions/2.0.0-p247/lib/ruby/gems/2.0.0/gems/iruby-0.1.7/lib/iruby/kernel.rb:105:in `execute_request'\u001b[0m",
        "\u001b[37m/home/hsin/.rbenv/versions/2.0.0-p247/lib/ruby/gems/2.0.0/gems/iruby-0.1.7/lib/iruby/kernel.rb:57:in `run'\u001b[0m",
        "\u001b[37m/home/hsin/.rbenv/versions/2.0.0-p247/lib/ruby/gems/2.0.0/gems/iruby-0.1.7/lib/iruby/command.rb:29:in `run_kernel'\u001b[0m",
        "\u001b[37m/home/hsin/.rbenv/versions/2.0.0-p247/lib/ruby/gems/2.0.0/gems/iruby-0.1.7/lib/iruby/command.rb:16:in `run'\u001b[0m",
        "\u001b[37m/home/hsin/.rbenv/versions/2.0.0-p247/lib/ruby/gems/2.0.0/gems/iruby-0.1.7/bin/iruby:6:in `<top (required)>'\u001b[0m",
        "\u001b[37m/home/hsin/.rbenv/versions/2.0.0-p247/bin/iruby:23:in `load'\u001b[0m",
        "\u001b[37m/home/hsin/.rbenv/versions/2.0.0-p247/bin/iruby:23:in `<main>'\u001b[0m"
       ]
      }
     ],
     "prompt_number": 31
    },
    {
     "cell_type": "code",
     "collapsed": false,
     "input": [
      "max"
     ],
     "language": "python",
     "outputs": [
      {
       "output_type": "pyout",
       "prompt_number": 32,
       "text": [
        "40824"
       ]
      }
     ],
     "prompt_number": 32
    },
    {
     "cell_type": "code",
     "collapsed": false,
     "input": [],
     "language": "python",
     "outputs": []
    }
   ]
  }
 ]
}